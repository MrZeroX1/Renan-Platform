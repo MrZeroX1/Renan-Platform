{
 "cells": [
  {
   "cell_type": "code",
   "execution_count": 1,
   "metadata": {},
   "outputs": [
    {
     "name": "stdout",
     "output_type": "stream",
     "text": [
      "Requirement already satisfied: pandas in d:\\programs\\anaconda3\\envs\\ar11\\lib\\site-packages (1.5.3)\n",
      "Requirement already satisfied: scikit-learn in d:\\programs\\anaconda3\\envs\\ar11\\lib\\site-packages (1.5.1)\n",
      "Requirement already satisfied: python-dateutil>=2.8.1 in d:\\programs\\anaconda3\\envs\\ar11\\lib\\site-packages (from pandas) (2.9.0)\n",
      "Requirement already satisfied: pytz>=2020.1 in d:\\programs\\anaconda3\\envs\\ar11\\lib\\site-packages (from pandas) (2024.1)\n",
      "Requirement already satisfied: numpy>=1.21.0 in d:\\programs\\anaconda3\\envs\\ar11\\lib\\site-packages (from pandas) (1.26.4)\n",
      "Requirement already satisfied: scipy>=1.6.0 in d:\\programs\\anaconda3\\envs\\ar11\\lib\\site-packages (from scikit-learn) (1.14.0)\n",
      "Requirement already satisfied: joblib>=1.2.0 in d:\\programs\\anaconda3\\envs\\ar11\\lib\\site-packages (from scikit-learn) (1.4.2)\n",
      "Requirement already satisfied: threadpoolctl>=3.1.0 in d:\\programs\\anaconda3\\envs\\ar11\\lib\\site-packages (from scikit-learn) (3.5.0)\n",
      "Requirement already satisfied: six>=1.5 in d:\\programs\\anaconda3\\envs\\ar11\\lib\\site-packages (from python-dateutil>=2.8.1->pandas) (1.16.0)\n"
     ]
    }
   ],
   "source": [
    "!pip install pandas scikit-learn"
   ]
  },
  {
   "cell_type": "code",
   "execution_count": 2,
   "metadata": {},
   "outputs": [],
   "source": [
    "import pandas as pd\n",
    "import os\n",
    "from sklearn.model_selection import train_test_split"
   ]
  },
  {
   "cell_type": "code",
   "execution_count": 3,
   "metadata": {},
   "outputs": [
    {
     "name": "stdout",
     "output_type": "stream",
     "text": [
      "(253166, 16)\n"
     ]
    }
   ],
   "source": [
    "df_train = pd.read_csv(os.path.join(\"D:/Sada_Dataset/\", \"train.csv\"))\n",
    "df_train[\"split\"] = \"train\"\n",
    "df_valid = pd.read_csv(os.path.join(\"D:/Sada_Dataset/\", \"valid.csv\"))\n",
    "df_valid[\"split\"] = \"valid\"\n",
    "df_test = pd.read_csv(os.path.join(\"D:/Sada_Dataset/\", \"test.csv\"))\n",
    "df_test[\"split\"] = \"test\"\n",
    "df = pd.concat([df_train, df_valid, df_test], axis=0, ignore_index=True)\n",
    "print(df.shape)"
   ]
  },
  {
   "cell_type": "code",
   "execution_count": 4,
   "metadata": {},
   "outputs": [],
   "source": [
    "# # Save the cleaned DataFrame to a new CSV file\n",
    "# df.to_csv('messy_metadata.csv', index=False)"
   ]
  },
  {
   "cell_type": "code",
   "execution_count": 5,
   "metadata": {},
   "outputs": [
    {
     "data": {
      "text/plain": [
       "FileName             0\n",
       "ShowName             0\n",
       "FullFileLength       0\n",
       "SegmentID            0\n",
       "SegmentLength        0\n",
       "SegmentStart         0\n",
       "SegmentEnd           0\n",
       "SpeakerAge           0\n",
       "SpeakerGender        0\n",
       "SpeakerDialect       0\n",
       "Speaker              0\n",
       "Environment          0\n",
       "GroundTruthText      1\n",
       "ProcessedText      214\n",
       "Category             0\n",
       "split                0\n",
       "dtype: int64"
      ]
     },
     "execution_count": 5,
     "metadata": {},
     "output_type": "execute_result"
    }
   ],
   "source": [
    "df.isnull().sum()"
   ]
  },
  {
   "cell_type": "code",
   "execution_count": 6,
   "metadata": {},
   "outputs": [
    {
     "name": "stdout",
     "output_type": "stream",
     "text": [
      "<class 'pandas.core.frame.DataFrame'>\n",
      "RangeIndex: 253166 entries, 0 to 253165\n",
      "Data columns (total 16 columns):\n",
      " #   Column           Non-Null Count   Dtype  \n",
      "---  ------           --------------   -----  \n",
      " 0   FileName         253166 non-null  object \n",
      " 1   ShowName         253166 non-null  object \n",
      " 2   FullFileLength   253166 non-null  float64\n",
      " 3   SegmentID        253166 non-null  object \n",
      " 4   SegmentLength    253166 non-null  float64\n",
      " 5   SegmentStart     253166 non-null  float64\n",
      " 6   SegmentEnd       253166 non-null  float64\n",
      " 7   SpeakerAge       253166 non-null  object \n",
      " 8   SpeakerGender    253166 non-null  object \n",
      " 9   SpeakerDialect   253166 non-null  object \n",
      " 10  Speaker          253166 non-null  object \n",
      " 11  Environment      253166 non-null  object \n",
      " 12  GroundTruthText  253165 non-null  object \n",
      " 13  ProcessedText    252952 non-null  object \n",
      " 14  Category         253166 non-null  object \n",
      " 15  split            253166 non-null  object \n",
      "dtypes: float64(4), object(12)\n",
      "memory usage: 30.9+ MB\n"
     ]
    }
   ],
   "source": [
    "df.info()"
   ]
  },
  {
   "cell_type": "code",
   "execution_count": 7,
   "metadata": {},
   "outputs": [
    {
     "data": {
      "text/plain": [
       "0"
      ]
     },
     "execution_count": 7,
     "metadata": {},
     "output_type": "execute_result"
    }
   ],
   "source": [
    "df.duplicated().sum()"
   ]
  },
  {
   "cell_type": "code",
   "execution_count": 8,
   "metadata": {},
   "outputs": [],
   "source": [
    "# Clean the 'FileName' column\n",
    "df['FileName'] = df['FileName'].str.replace('\"', '')\n",
    "df['GroundTruthText'] = df['GroundTruthText'].str.replace('--', '')\n",
    "df['ProcessedText'] = df['ProcessedText'].str.replace('--', '')"
   ]
  },
  {
   "cell_type": "code",
   "execution_count": 9,
   "metadata": {},
   "outputs": [
    {
     "data": {
      "text/html": [
       "<div>\n",
       "<style scoped>\n",
       "    .dataframe tbody tr th:only-of-type {\n",
       "        vertical-align: middle;\n",
       "    }\n",
       "\n",
       "    .dataframe tbody tr th {\n",
       "        vertical-align: top;\n",
       "    }\n",
       "\n",
       "    .dataframe thead th {\n",
       "        text-align: right;\n",
       "    }\n",
       "</style>\n",
       "<table border=\"1\" class=\"dataframe\">\n",
       "  <thead>\n",
       "    <tr style=\"text-align: right;\">\n",
       "      <th></th>\n",
       "      <th>FileName</th>\n",
       "      <th>ShowName</th>\n",
       "      <th>FullFileLength</th>\n",
       "      <th>SegmentID</th>\n",
       "      <th>SegmentLength</th>\n",
       "      <th>SegmentStart</th>\n",
       "      <th>SegmentEnd</th>\n",
       "      <th>SpeakerAge</th>\n",
       "      <th>SpeakerGender</th>\n",
       "      <th>SpeakerDialect</th>\n",
       "      <th>Speaker</th>\n",
       "      <th>Environment</th>\n",
       "      <th>GroundTruthText</th>\n",
       "      <th>ProcessedText</th>\n",
       "      <th>Category</th>\n",
       "      <th>split</th>\n",
       "    </tr>\n",
       "  </thead>\n",
       "  <tbody>\n",
       "    <tr>\n",
       "      <th>164920</th>\n",
       "      <td>batch_3/6k_v_SBA_1658_2.wav</td>\n",
       "      <td>عندما تغيب الحقيقة</td>\n",
       "      <td>611.55</td>\n",
       "      <td>6k_v_SBA_1658_2-seg_201_760-202_520</td>\n",
       "      <td>0.76</td>\n",
       "      <td>201.76</td>\n",
       "      <td>202.52</td>\n",
       "      <td>Adult -- بالغ</td>\n",
       "      <td>Female</td>\n",
       "      <td>Hijazi</td>\n",
       "      <td>Speaker5متحدث</td>\n",
       "      <td>Music -- موسيقى</td>\n",
       "      <td>يا دكتورة.؟</td>\n",
       "      <td>يا دكتورة</td>\n",
       "      <td>درامي</td>\n",
       "      <td>train</td>\n",
       "    </tr>\n",
       "  </tbody>\n",
       "</table>\n",
       "</div>"
      ],
      "text/plain": [
       "                           FileName            ShowName  FullFileLength  \\\n",
       "164920  batch_3/6k_v_SBA_1658_2.wav  عندما تغيب الحقيقة          611.55   \n",
       "\n",
       "                                  SegmentID  SegmentLength  SegmentStart  \\\n",
       "164920  6k_v_SBA_1658_2-seg_201_760-202_520           0.76        201.76   \n",
       "\n",
       "        SegmentEnd     SpeakerAge SpeakerGender SpeakerDialect        Speaker  \\\n",
       "164920      202.52  Adult -- بالغ        Female         Hijazi  Speaker5متحدث   \n",
       "\n",
       "            Environment GroundTruthText ProcessedText Category  split  \n",
       "164920  Music -- موسيقى     يا دكتورة.؟     يا دكتورة    درامي  train  "
      ]
     },
     "execution_count": 9,
     "metadata": {},
     "output_type": "execute_result"
    }
   ],
   "source": [
    "df.sample()"
   ]
  },
  {
   "cell_type": "code",
   "execution_count": 10,
   "metadata": {},
   "outputs": [],
   "source": [
    "# Keep rows where 'SpeakerAge' is in ['Adult', 'Young Adult']\n",
    "df.drop(df[df['SpeakerAge'] == 'Child -- طفل'].index, inplace=True)\n",
    "df.drop(df[df['SpeakerAge'] == 'Elderly -- كبير في السن'].index, inplace=True)\n",
    "df.drop(df[df['SpeakerAge'] == 'More than 1 speaker اكثر من متحدث'].index, inplace=True)\n",
    "df.drop(df[df['SpeakerAge'] == 'Unknown'].index, inplace=True)\n",
    "\n",
    "# # Keep rows where 'SpeakerGender' are 'Male', 'Female'\n",
    "df.drop(df[df['SpeakerGender'] == 'Unknown'].index, inplace=True)\n",
    "df.drop(df[df['SpeakerGender'] == 'More than 1 speaker اكثر من متحدث'].index, inplace=True)\n",
    "\n",
    "# # Keep rows where 'SpeakerDialect' is 'Najdi' and 'Khaliji' (Najdi, Hijazi, Janubi, Shamali, Khaliji, ModernStandardArabic,Levantine, Egyptian, Iraqi, Yemeni, Maghrebi, More than 1 speaker, Unknown, or Notapplicable)\n",
    "df.drop(df[df['SpeakerDialect'] =='Hijazi'].index, inplace=True)\n",
    "df.drop(df[df['SpeakerDialect'] =='Janubi'].index, inplace=True)\n",
    "df.drop(df[df['SpeakerDialect'] =='Shamali'].index, inplace=True)\n",
    "# df.drop(df[df['SpeakerDialect'] =='Khaliji'].index, inplace=True)\n",
    "df.drop(df[df['SpeakerDialect'] =='ModernStandardArabic'].index, inplace=True)\n",
    "df.drop(df[df['SpeakerDialect'] =='Levantine'].index, inplace=True)\n",
    "df.drop(df[df['SpeakerDialect'] =='Egyptian'].index, inplace=True)\n",
    "df.drop(df[df['SpeakerDialect'] =='Yemeni'].index, inplace=True)\n",
    "df.drop(df[df['SpeakerDialect'] =='Maghrebi'].index, inplace=True)\n",
    "df.drop(df[df['SpeakerDialect'] =='More than 1 speaker'].index, inplace=True)\n",
    "df.drop(df[df['SpeakerDialect'] =='Unknown'].index, inplace=True)\n",
    "df.drop(df[df['SpeakerDialect'] =='Notapplicable'].index, inplace=True)\n",
    "\n",
    "# # Keep rows where 'Environment' is 'Clean' \n",
    "df.drop(df[df['Environment'] =='Music -- موسيقى'].index, inplace=True)\n",
    "df.drop(df[df['Environment'] =='Car -- سيارة'].index, inplace=True)\n",
    "df.drop(df[df['Environment'] =='Noisy -- ضوضاء'].index, inplace=True)\n",
    "\n",
    "df.drop(df[df['GroundTruthText'] =='#NAME?'].index, inplace=True)\n",
    "df.drop(df[df['ProcessedText'] =='#NAME?'].index, inplace=True)\n"
   ]
  },
  {
   "cell_type": "code",
   "execution_count": 11,
   "metadata": {},
   "outputs": [
    {
     "data": {
      "text/plain": [
       "(37125, 16)"
      ]
     },
     "execution_count": 11,
     "metadata": {},
     "output_type": "execute_result"
    }
   ],
   "source": [
    "df.shape"
   ]
  },
  {
   "cell_type": "code",
   "execution_count": 12,
   "metadata": {},
   "outputs": [],
   "source": [
    "# Drop unwanted columns\n",
    "df = df.drop(columns=['ShowName', 'FullFileLength', 'SegmentID', 'SegmentLength', \n",
    "                        'SpeakerAge', 'SpeakerDialect', 'Environment', 'SpeakerGender', 'Category', 'split'])"
   ]
  },
  {
   "cell_type": "code",
   "execution_count": 13,
   "metadata": {},
   "outputs": [
    {
     "name": "stdout",
     "output_type": "stream",
     "text": [
      "<class 'pandas.core.frame.DataFrame'>\n",
      "Int64Index: 37125 entries, 67 to 253158\n",
      "Data columns (total 6 columns):\n",
      " #   Column           Non-Null Count  Dtype  \n",
      "---  ------           --------------  -----  \n",
      " 0   FileName         37125 non-null  object \n",
      " 1   SegmentStart     37125 non-null  float64\n",
      " 2   SegmentEnd       37125 non-null  float64\n",
      " 3   Speaker          37125 non-null  object \n",
      " 4   GroundTruthText  37125 non-null  object \n",
      " 5   ProcessedText    37121 non-null  object \n",
      "dtypes: float64(2), object(4)\n",
      "memory usage: 2.0+ MB\n"
     ]
    }
   ],
   "source": [
    "df.info()"
   ]
  },
  {
   "cell_type": "code",
   "execution_count": 14,
   "metadata": {},
   "outputs": [],
   "source": [
    "# Drop rows with null values in the remaining columns FileName|SegmentStart|SegmentEnd|Speaker|GroundTruthText|ProcessedText\n",
    "df = df.dropna(subset=['FileName', 'SegmentStart', 'SegmentEnd', 'Speaker', 'GroundTruthText', 'ProcessedText'])"
   ]
  },
  {
   "cell_type": "code",
   "execution_count": 15,
   "metadata": {},
   "outputs": [],
   "source": [
    "# Combine the columns into a single column with '|' delimiter\n",
    "df['audio_file|SegmentStart|SegmentEnd|text|speaker_name'] = df['FileName'].astype(str) + '|' + df['SegmentStart'].astype(str) + '|' +df['SegmentEnd'].astype(str) + '|' + df['GroundTruthText'].astype(str) + '|' + df['Speaker'].astype(str)"
   ]
  },
  {
   "cell_type": "code",
   "execution_count": 16,
   "metadata": {},
   "outputs": [
    {
     "data": {
      "text/html": [
       "<div>\n",
       "<style scoped>\n",
       "    .dataframe tbody tr th:only-of-type {\n",
       "        vertical-align: middle;\n",
       "    }\n",
       "\n",
       "    .dataframe tbody tr th {\n",
       "        vertical-align: top;\n",
       "    }\n",
       "\n",
       "    .dataframe thead th {\n",
       "        text-align: right;\n",
       "    }\n",
       "</style>\n",
       "<table border=\"1\" class=\"dataframe\">\n",
       "  <thead>\n",
       "    <tr style=\"text-align: right;\">\n",
       "      <th></th>\n",
       "      <th>FileName</th>\n",
       "      <th>SegmentStart</th>\n",
       "      <th>SegmentEnd</th>\n",
       "      <th>Speaker</th>\n",
       "      <th>GroundTruthText</th>\n",
       "      <th>ProcessedText</th>\n",
       "      <th>audio_file|SegmentStart|SegmentEnd|text|speaker_name</th>\n",
       "    </tr>\n",
       "  </thead>\n",
       "  <tbody>\n",
       "    <tr>\n",
       "      <th>67</th>\n",
       "      <td>batch_1/6k_SBA_100_0.wav</td>\n",
       "      <td>591.530000</td>\n",
       "      <td>594.380000</td>\n",
       "      <td>Speaker3متحدث</td>\n",
       "      <td>أورّيك يا مغيث أورّيك يا مغيث بس تشوفك عيني.</td>\n",
       "      <td>اوريك يا مغيث اوريك يا مغيث بس تشوفك عيني</td>\n",
       "      <td>batch_1/6k_SBA_100_0.wav|591.53|594.38|أورّيك ...</td>\n",
       "    </tr>\n",
       "    <tr>\n",
       "      <th>68</th>\n",
       "      <td>batch_1/6k_SBA_100_0.wav</td>\n",
       "      <td>595.100000</td>\n",
       "      <td>597.300540</td>\n",
       "      <td>Speaker4متحدث</td>\n",
       "      <td>إيش تبي تسوّي معاه إيش تبي توريه يا وليدي ؟</td>\n",
       "      <td>ايش تبي تسوي معاه ايش تبي توريه يا وليدي</td>\n",
       "      <td>batch_1/6k_SBA_100_0.wav|595.1|597.3005396|إيش...</td>\n",
       "    </tr>\n",
       "    <tr>\n",
       "      <th>69</th>\n",
       "      <td>batch_1/6k_SBA_100_0.wav</td>\n",
       "      <td>597.399977</td>\n",
       "      <td>605.300000</td>\n",
       "      <td>Speaker3متحدث</td>\n",
       "      <td>تبيني أسكت وهو يضحك علينا ويرميني بالبلاوي وا...</td>\n",
       "      <td>تبيني اسكت وهو يضحك علينا ويرميني بالبلاوي وال...</td>\n",
       "      <td>batch_1/6k_SBA_100_0.wav|597.3999766|605.3| تب...</td>\n",
       "    </tr>\n",
       "    <tr>\n",
       "      <th>71</th>\n",
       "      <td>batch_1/6k_SBA_100_1.wav</td>\n",
       "      <td>4.100000</td>\n",
       "      <td>6.723307</td>\n",
       "      <td>Speaker2متحدث</td>\n",
       "      <td>علمني يا ولدي إيش تبي تسوي معاه؟</td>\n",
       "      <td>علمني يا ولدي ايش تبي تسوي معاه</td>\n",
       "      <td>batch_1/6k_SBA_100_1.wav|4.1|6.72330708|علمني ...</td>\n",
       "    </tr>\n",
       "    <tr>\n",
       "      <th>80</th>\n",
       "      <td>batch_1/6k_SBA_100_1.wav</td>\n",
       "      <td>38.430000</td>\n",
       "      <td>40.440000</td>\n",
       "      <td>Speaker1متحدث</td>\n",
       "      <td>الحقيقة يا أخوي إنّه خالنا رجالٍ عوج.</td>\n",
       "      <td>الحقيقة يا اخوي انه خالنا رجال عوج</td>\n",
       "      <td>batch_1/6k_SBA_100_1.wav|38.43|40.44|الحقيقة ي...</td>\n",
       "    </tr>\n",
       "  </tbody>\n",
       "</table>\n",
       "</div>"
      ],
      "text/plain": [
       "                    FileName  SegmentStart  SegmentEnd        Speaker  \\\n",
       "67  batch_1/6k_SBA_100_0.wav    591.530000  594.380000  Speaker3متحدث   \n",
       "68  batch_1/6k_SBA_100_0.wav    595.100000  597.300540  Speaker4متحدث   \n",
       "69  batch_1/6k_SBA_100_0.wav    597.399977  605.300000  Speaker3متحدث   \n",
       "71  batch_1/6k_SBA_100_1.wav      4.100000    6.723307  Speaker2متحدث   \n",
       "80  batch_1/6k_SBA_100_1.wav     38.430000   40.440000  Speaker1متحدث   \n",
       "\n",
       "                                      GroundTruthText  \\\n",
       "67       أورّيك يا مغيث أورّيك يا مغيث بس تشوفك عيني.   \n",
       "68        إيش تبي تسوّي معاه إيش تبي توريه يا وليدي ؟   \n",
       "69   تبيني أسكت وهو يضحك علينا ويرميني بالبلاوي وا...   \n",
       "71                   علمني يا ولدي إيش تبي تسوي معاه؟   \n",
       "80              الحقيقة يا أخوي إنّه خالنا رجالٍ عوج.   \n",
       "\n",
       "                                        ProcessedText  \\\n",
       "67          اوريك يا مغيث اوريك يا مغيث بس تشوفك عيني   \n",
       "68           ايش تبي تسوي معاه ايش تبي توريه يا وليدي   \n",
       "69  تبيني اسكت وهو يضحك علينا ويرميني بالبلاوي وال...   \n",
       "71                    علمني يا ولدي ايش تبي تسوي معاه   \n",
       "80                 الحقيقة يا اخوي انه خالنا رجال عوج   \n",
       "\n",
       "   audio_file|SegmentStart|SegmentEnd|text|speaker_name  \n",
       "67  batch_1/6k_SBA_100_0.wav|591.53|594.38|أورّيك ...    \n",
       "68  batch_1/6k_SBA_100_0.wav|595.1|597.3005396|إيش...    \n",
       "69  batch_1/6k_SBA_100_0.wav|597.3999766|605.3| تب...    \n",
       "71  batch_1/6k_SBA_100_1.wav|4.1|6.72330708|علمني ...    \n",
       "80  batch_1/6k_SBA_100_1.wav|38.43|40.44|الحقيقة ي...    "
      ]
     },
     "execution_count": 16,
     "metadata": {},
     "output_type": "execute_result"
    }
   ],
   "source": [
    "df.head()"
   ]
  },
  {
   "cell_type": "code",
   "execution_count": 17,
   "metadata": {},
   "outputs": [],
   "source": [
    "# Select only the new 'Combined' column\n",
    "df_cleaned = df[['audio_file|SegmentStart|SegmentEnd|text|speaker_name']]"
   ]
  },
  {
   "cell_type": "code",
   "execution_count": 18,
   "metadata": {},
   "outputs": [
    {
     "data": {
      "text/html": [
       "<div>\n",
       "<style scoped>\n",
       "    .dataframe tbody tr th:only-of-type {\n",
       "        vertical-align: middle;\n",
       "    }\n",
       "\n",
       "    .dataframe tbody tr th {\n",
       "        vertical-align: top;\n",
       "    }\n",
       "\n",
       "    .dataframe thead th {\n",
       "        text-align: right;\n",
       "    }\n",
       "</style>\n",
       "<table border=\"1\" class=\"dataframe\">\n",
       "  <thead>\n",
       "    <tr style=\"text-align: right;\">\n",
       "      <th></th>\n",
       "      <th>audio_file|SegmentStart|SegmentEnd|text|speaker_name</th>\n",
       "    </tr>\n",
       "  </thead>\n",
       "  <tbody>\n",
       "    <tr>\n",
       "      <th>67</th>\n",
       "      <td>batch_1/6k_SBA_100_0.wav|591.53|594.38|أورّيك ...</td>\n",
       "    </tr>\n",
       "    <tr>\n",
       "      <th>68</th>\n",
       "      <td>batch_1/6k_SBA_100_0.wav|595.1|597.3005396|إيش...</td>\n",
       "    </tr>\n",
       "    <tr>\n",
       "      <th>69</th>\n",
       "      <td>batch_1/6k_SBA_100_0.wav|597.3999766|605.3| تب...</td>\n",
       "    </tr>\n",
       "    <tr>\n",
       "      <th>71</th>\n",
       "      <td>batch_1/6k_SBA_100_1.wav|4.1|6.72330708|علمني ...</td>\n",
       "    </tr>\n",
       "    <tr>\n",
       "      <th>80</th>\n",
       "      <td>batch_1/6k_SBA_100_1.wav|38.43|40.44|الحقيقة ي...</td>\n",
       "    </tr>\n",
       "  </tbody>\n",
       "</table>\n",
       "</div>"
      ],
      "text/plain": [
       "   audio_file|SegmentStart|SegmentEnd|text|speaker_name\n",
       "67  batch_1/6k_SBA_100_0.wav|591.53|594.38|أورّيك ...  \n",
       "68  batch_1/6k_SBA_100_0.wav|595.1|597.3005396|إيش...  \n",
       "69  batch_1/6k_SBA_100_0.wav|597.3999766|605.3| تب...  \n",
       "71  batch_1/6k_SBA_100_1.wav|4.1|6.72330708|علمني ...  \n",
       "80  batch_1/6k_SBA_100_1.wav|38.43|40.44|الحقيقة ي...  "
      ]
     },
     "execution_count": 18,
     "metadata": {},
     "output_type": "execute_result"
    }
   ],
   "source": [
    "df_cleaned.head()"
   ]
  },
  {
   "cell_type": "code",
   "execution_count": 19,
   "metadata": {},
   "outputs": [],
   "source": [
    "# Remove leading and trailing whitespaces from all string columns\n",
    "df_cleaned = df_cleaned.applymap(lambda x: x.strip() if isinstance(x, str) else x)"
   ]
  },
  {
   "cell_type": "code",
   "execution_count": 20,
   "metadata": {},
   "outputs": [],
   "source": [
    "df_cleaned.to_csv(\"cleaning_audio.csv\", index=False)"
   ]
  }
 ],
 "metadata": {
  "kernelspec": {
   "display_name": "python311",
   "language": "python",
   "name": "python3"
  },
  "language_info": {
   "codemirror_mode": {
    "name": "ipython",
    "version": 3
   },
   "file_extension": ".py",
   "mimetype": "text/x-python",
   "name": "python",
   "nbconvert_exporter": "python",
   "pygments_lexer": "ipython3",
   "version": "3.11.9"
  }
 },
 "nbformat": 4,
 "nbformat_minor": 2
}
