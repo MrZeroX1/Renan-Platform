{
 "cells": [
  {
   "cell_type": "code",
   "execution_count": 10,
   "metadata": {},
   "outputs": [],
   "source": [
    "import pandas as pd\n",
    "from sklearn.model_selection import train_test_split"
   ]
  },
  {
   "cell_type": "code",
   "execution_count": 11,
   "metadata": {},
   "outputs": [],
   "source": [
    "df = pd.read_csv(\"D:/python/TTSv24/TTS/xtts-trainer-no-ui-auto/model/wavs/summary_file.csv\", delimiter='|')"
   ]
  },
  {
   "cell_type": "code",
   "execution_count": 12,
   "metadata": {},
   "outputs": [
    {
     "data": {
      "text/html": [
       "<div>\n",
       "<style scoped>\n",
       "    .dataframe tbody tr th:only-of-type {\n",
       "        vertical-align: middle;\n",
       "    }\n",
       "\n",
       "    .dataframe tbody tr th {\n",
       "        vertical-align: top;\n",
       "    }\n",
       "\n",
       "    .dataframe thead th {\n",
       "        text-align: right;\n",
       "    }\n",
       "</style>\n",
       "<table border=\"1\" class=\"dataframe\">\n",
       "  <thead>\n",
       "    <tr style=\"text-align: right;\">\n",
       "      <th></th>\n",
       "      <th>audio_file</th>\n",
       "      <th>text</th>\n",
       "      <th>speaker_name</th>\n",
       "    </tr>\n",
       "  </thead>\n",
       "  <tbody>\n",
       "    <tr>\n",
       "      <th>0</th>\n",
       "      <td>audio_1.wav</td>\n",
       "      <td>أورّيك يا مغيث أورّيك يا مغيث بس تشوفك عيني.</td>\n",
       "      <td>Speaker3</td>\n",
       "    </tr>\n",
       "    <tr>\n",
       "      <th>1</th>\n",
       "      <td>audio_2.wav</td>\n",
       "      <td>إيش تبي تسوّي معاه إيش تبي توريه يا وليدي ؟</td>\n",
       "      <td>Speaker4</td>\n",
       "    </tr>\n",
       "    <tr>\n",
       "      <th>2</th>\n",
       "      <td>audio_3.wav</td>\n",
       "      <td>تبيني أسكت وهو يضحك علينا ويرميني بالبلاوي وا...</td>\n",
       "      <td>Speaker3</td>\n",
       "    </tr>\n",
       "    <tr>\n",
       "      <th>3</th>\n",
       "      <td>audio_4.wav</td>\n",
       "      <td>علمني يا ولدي إيش تبي تسوي معاه؟</td>\n",
       "      <td>Speaker2</td>\n",
       "    </tr>\n",
       "    <tr>\n",
       "      <th>4</th>\n",
       "      <td>audio_5.wav</td>\n",
       "      <td>الحقيقة يا أخوي إنّه خالنا رجالٍ عوج.</td>\n",
       "      <td>Speaker1</td>\n",
       "    </tr>\n",
       "  </tbody>\n",
       "</table>\n",
       "</div>"
      ],
      "text/plain": [
       "    audio_file                                               text speaker_name\n",
       "0  audio_1.wav       أورّيك يا مغيث أورّيك يا مغيث بس تشوفك عيني.     Speaker3\n",
       "1  audio_2.wav        إيش تبي تسوّي معاه إيش تبي توريه يا وليدي ؟     Speaker4\n",
       "2  audio_3.wav   تبيني أسكت وهو يضحك علينا ويرميني بالبلاوي وا...     Speaker3\n",
       "3  audio_4.wav                   علمني يا ولدي إيش تبي تسوي معاه؟     Speaker2\n",
       "4  audio_5.wav              الحقيقة يا أخوي إنّه خالنا رجالٍ عوج.     Speaker1"
      ]
     },
     "execution_count": 12,
     "metadata": {},
     "output_type": "execute_result"
    }
   ],
   "source": [
    "df.head()"
   ]
  },
  {
   "cell_type": "code",
   "execution_count": 13,
   "metadata": {},
   "outputs": [
    {
     "name": "stdout",
     "output_type": "stream",
     "text": [
      "<class 'pandas.core.frame.DataFrame'>\n",
      "RangeIndex: 35816 entries, 0 to 35815\n",
      "Data columns (total 3 columns):\n",
      " #   Column        Non-Null Count  Dtype \n",
      "---  ------        --------------  ----- \n",
      " 0   audio_file    35816 non-null  object\n",
      " 1   text          35816 non-null  object\n",
      " 2   speaker_name  35816 non-null  object\n",
      "dtypes: object(3)\n",
      "memory usage: 839.6+ KB\n"
     ]
    }
   ],
   "source": [
    "df.info()"
   ]
  },
  {
   "cell_type": "code",
   "execution_count": 14,
   "metadata": {},
   "outputs": [],
   "source": [
    "df['audio_file|text|speaker_name'] = df['audio_file'].astype(str) + '|' + df['text'].astype(str) + '|' + df['speaker_name'].astype(str)"
   ]
  },
  {
   "cell_type": "code",
   "execution_count": 15,
   "metadata": {},
   "outputs": [],
   "source": [
    "df_cleaned = df[['audio_file|text|speaker_name']]"
   ]
  },
  {
   "cell_type": "code",
   "execution_count": 16,
   "metadata": {},
   "outputs": [],
   "source": [
    "df_cleaned = df_cleaned.applymap(lambda x: x.strip() if isinstance(x, str) else x)"
   ]
  },
  {
   "cell_type": "code",
   "execution_count": 17,
   "metadata": {},
   "outputs": [],
   "source": [
    "train_df, eval_df = train_test_split(df_cleaned, test_size=0.3, random_state=0)"
   ]
  },
  {
   "cell_type": "code",
   "execution_count": 18,
   "metadata": {},
   "outputs": [],
   "source": [
    "# Save the cleaned DataFrame to a new CSV file\n",
    "train_df.to_csv('D:/python/TTSv24/TTS/xtts-trainer-no-ui-auto/model/wavs/metadata_train.csv' ,index=False)\n",
    "eval_df.to_csv('D:/python/TTSv24/TTS/xtts-trainer-no-ui-auto/model/wavs/metadata_eval.csv', index=False)"
   ]
  }
 ],
 "metadata": {
  "kernelspec": {
   "display_name": "tts11",
   "language": "python",
   "name": "python3"
  },
  "language_info": {
   "codemirror_mode": {
    "name": "ipython",
    "version": 3
   },
   "file_extension": ".py",
   "mimetype": "text/x-python",
   "name": "python",
   "nbconvert_exporter": "python",
   "pygments_lexer": "ipython3",
   "version": "3.11.9"
  }
 },
 "nbformat": 4,
 "nbformat_minor": 2
}
